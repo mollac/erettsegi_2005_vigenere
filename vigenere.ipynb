{
  "cells": [
    {
      "metadata": {
        "collapsed": true
      },
      "cell_type": "markdown",
      "source": "## 4. Vigenère tábla ##\n\nMár a XVI. században komoly titkosítási módszereket találtak ki az üzenetek elrejtésére. A század egyik legjobb kriptográfusának Blaise de Vigenère-nek a módszerét olvashatja a következőkben. A kódoláshoz egy táblázatot és egy ún. kulcsszót használt. A táblázatot a jobb oldali ábra tartalmazza. A tábla adatait a vtabla.dat fájlban találja a következő formában.\n```\nABCDEFGHIJKLMNOPQRSTUVWXYZ\nBCDEFGHIJKLMNOPQRSTUVWXYZA\nCDEFGHIJKLMNOPQRSTUVWXYZAB\nDEFGHIJKLMNOPQRSTUVWXYZABC\nEFGHIJKLMNOPQRSTUVWXYZABCD\nFGHIJKLMNOPQRSTUVWXYZABCDE\n```\n**Készítsen programot kodol néven a következő feladatok végrehajtására!**\n1. Kérjen be a felhasználótól egy maximum 255 karakternyi, nem üres szöveget! A további-\nakban ez a nyílt szöveg.\n2. Alakítsa át a nyílt szöveget, hogy a későbbi kódolás feltételeinek megfeleljen!\nA kódolás feltételei:\n• A magyar ékezetes karakterek helyett ékezetmenteseket kell használni. (Például á he-\nlyett a; ő helyett o stb.)\n• A nyílt szövegben az átalakítás után csak az angol ábécé betűi szerepelhetnek.\n• A nyílt szöveg az átalakítás után legyen csupa nagybetűs.\n3. Írja ki a képernyőre az átalakított nyílt szöveget!\n4. Kérjen be a felhasználótól egy maximum 5 karakteres, nem üres kulcsszót! A kulcsszó a\nkódolás feltételeinek megfelelő legyen! (Sem átalakítás, sem ellenőrzés nem kell!) Alakít-\nsa át a kulcsszót csupa nagybetűssé!\n5. A kódolás első lépéseként fűzze össze a kulcsszót egymás után annyiszor, hogy az így\nkapott karaktersorozat (továbbiakban kulcsszöveg) hossza legyen egyenlő a kódolandó\nszöveg hosszával! Írja ki a képernyőre az így kapott kulcsszöveget!\n6. A kódolás második lépéseként a következőket hajtsa végre! Vegye az átalakított nyílt szö-\nveg első karakterét, és keresse meg a vtabla.dat fájlból beolvasott táblázat első oszlo-\npában! Ezután vegye a kulcsszöveg első karakterét, és keresse meg a táblázat első sorá-\nban! Az így kiválasztott sor és oszlop metszéspontjában lévő karakter lesz a kódolt szöveg\nelső karaktere. Ezt ismételje a kódolandó szöveg többi karakterével is!\n7. Írja ki a képernyőre és a kodolt.dat fájlba a kapott kódolt szöveget!\n\n### Példa: ###\n**Nyílt szöveg:** Ez a próba szöveg, amit kódolunk!\n**Szöveg átalakítása:** EZAPROBASZOVEGAMITKODOLUNK\n**Kulcsszó:** auto\n**Kulcsszó nagybetűssé alakítása:** AUTO\n**Nyílt szöveg és kulcsszöveg együtt:**\nE Z A P R O B A S Z O V E G A M I T K O D O L U N K\nA U T O A U T O A U T O A U T O A U T O A U T O A U\n**Kódolt szöveg:**\nE T T D R I U O S T H J E A T A I N D C D I E I N E\n"
    },
    {
      "metadata": {
        "trusted": true
      },
      "cell_type": "code",
      "source": "# coding=utf-8\nin_tab = 'öüóőúéáűíÖÜÓŐÚÉÁŰÍ'\nouttab = 'ouooueauiOUOOUEAUI'\ndeltab = ' ,.!?;:#()[]{}-=+*'\ntab = str.maketrans(in_tab, outtab, deltab)\n\nnyilt = input('Nyílt szöveg: ').translate(tab).upper()\nprint('Szöveg átalakítása: ', nyilt)\n\nkulcs = (input('Kulcsszó: ').upper() * len(nyilt))[0:len(nyilt)]\nprint('Nyílt szöveg és kulcs együtt:', nyilt, kulcs, sep='\\n')\n\nwith open('vtabla.dat', 'r') as f:\n    vtabla = [line.strip() for line in f]\n\nkodolt = ''\nfor i in range(len(nyilt)):\n    sor = vtabla[0].find(kulcs[i])\n    for j in range(len(vtabla)):\n        if vtabla[j][0] == nyilt[i]:\n            oszl = j\n            break\n    kodolt += vtabla[oszl][sor]\n\nprint('Kódolt szöveg:', kodolt, sep='\\n')\n\nwith open('kodolt.dat', 'w') as f:\n    f.write(kodolt)\nprint('Kódolt szöveg fájlba írása: kodolt.dat')",
      "execution_count": 1,
      "outputs": [
        {
          "output_type": "stream",
          "name": "stdout",
          "text": "Nyílt szöveg: alma a fa alatt\nSzöveg átalakítása:  ALMAAFAALATT\nKulcsszó: kukac\nNyílt szöveg és kulcs együtt:\nALMAAFAALATT\nKUKACKUKACKU\nKódolt szöveg:\nKFWACPUKLCDN\nKódolt szöveg fájlba írása: kodolt.dat\n"
        }
      ]
    }
  ],
  "metadata": {
    "kernelspec": {
      "name": "python36",
      "display_name": "Python 3.6",
      "language": "python"
    },
    "language_info": {
      "mimetype": "text/x-python",
      "nbconvert_exporter": "python",
      "name": "python",
      "pygments_lexer": "ipython3",
      "version": "3.6.6",
      "file_extension": ".py",
      "codemirror_mode": {
        "version": 3,
        "name": "ipython"
      }
    }
  },
  "nbformat": 4,
  "nbformat_minor": 2
}